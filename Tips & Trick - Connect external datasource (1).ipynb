{
 "cells": [
  {
   "cell_type": "markdown",
   "id": "fc7c164a-a306-47cf-ae05-747ec3c3eb1b",
   "metadata": {},
   "source": [
    "<h1> 1. How to connect BigQuery DataSet to Jupyter NotBook </h1>"
   ]
  },
  {
   "cell_type": "code",
   "execution_count": 2,
   "id": "452dd0ea-de6f-4f17-8b8d-63ec712e5d1e",
   "metadata": {
    "collapsed": true,
    "jupyter": {
     "outputs_hidden": true
    },
    "tags": []
   },
   "outputs": [
    {
     "name": "stdout",
     "output_type": "stream",
     "text": [
      "Collecting google-cloud\n",
      "  Downloading google_cloud-0.34.0-py2.py3-none-any.whl (1.8 kB)\n",
      "Installing collected packages: google-cloud\n",
      "Successfully installed google-cloud-0.34.0\n",
      "Collecting google-cloud-bigquery[pandas]\n",
      "  Downloading google_cloud_bigquery-3.2.0-py2.py3-none-any.whl (211 kB)\n",
      "Requirement already satisfied: packaging<22.0.0dev,>=14.3 in c:\\users\\dkeddar\\anaconda3\\lib\\site-packages (from google-cloud-bigquery[pandas]) (20.9)\n",
      "Collecting google-api-core[grpc]!=2.0.*,!=2.1.*,!=2.2.*,!=2.3.0,<3.0.0dev,>=1.31.5\n",
      "  Downloading google_api_core-2.8.2-py3-none-any.whl (114 kB)\n",
      "Collecting google-cloud-core<3.0.0dev,>=1.4.1\n",
      "  Downloading google_cloud_core-2.3.1-py2.py3-none-any.whl (29 kB)\n",
      "Collecting proto-plus<2.0.0dev,>=1.15.0\n",
      "  Downloading proto_plus-1.20.6-py3-none-any.whl (46 kB)\n",
      "Requirement already satisfied: python-dateutil<3.0dev,>=2.7.2 in c:\\users\\dkeddar\\anaconda3\\lib\\site-packages (from google-cloud-bigquery[pandas]) (2.8.1)\n",
      "Requirement already satisfied: requests<3.0.0dev,>=2.18.0 in c:\\users\\dkeddar\\anaconda3\\lib\\site-packages (from google-cloud-bigquery[pandas]) (2.25.1)\n",
      "Collecting grpcio<2.0dev,>=1.38.1\n",
      "  Downloading grpcio-1.47.0-cp38-cp38-win_amd64.whl (3.6 MB)\n",
      "Collecting protobuf<4.0.0dev,>=3.12.0\n",
      "  Downloading protobuf-3.20.1-cp38-cp38-win_amd64.whl (904 kB)\n",
      "Collecting google-resumable-media<3.0dev,>=0.6.0\n",
      "  Downloading google_resumable_media-2.3.3-py2.py3-none-any.whl (76 kB)\n",
      "Collecting google-cloud-bigquery-storage<3.0.0dev,>=2.0.0\n",
      "  Downloading google_cloud_bigquery_storage-2.14.0-py2.py3-none-any.whl (181 kB)\n",
      "Collecting pyarrow<9.0dev,>=3.0.0\n",
      "  Downloading pyarrow-8.0.0-cp38-cp38-win_amd64.whl (17.9 MB)\n",
      "Requirement already satisfied: pandas>=1.0.0 in c:\\users\\dkeddar\\anaconda3\\lib\\site-packages (from google-cloud-bigquery[pandas]) (1.2.4)\n",
      "Collecting db-dtypes<2.0.0dev,>=0.3.0\n",
      "  Downloading db_dtypes-1.0.2-py2.py3-none-any.whl (14 kB)\n",
      "Requirement already satisfied: numpy<2.0dev,>=1.16.6 in c:\\users\\dkeddar\\anaconda3\\lib\\site-packages (from db-dtypes<2.0.0dev,>=0.3.0->google-cloud-bigquery[pandas]) (1.20.1)\n",
      "Collecting google-auth<3.0dev,>=1.25.0\n",
      "  Downloading google_auth-2.9.0-py2.py3-none-any.whl (167 kB)\n",
      "Collecting googleapis-common-protos<2.0dev,>=1.56.2\n",
      "  Downloading googleapis_common_protos-1.56.3-py2.py3-none-any.whl (211 kB)\n",
      "Collecting grpcio-status<2.0dev,>=1.33.2\n",
      "  Downloading grpcio_status-1.47.0-py3-none-any.whl (10.0 kB)\n",
      "Collecting pyasn1-modules>=0.2.1\n",
      "  Downloading pyasn1_modules-0.2.8-py2.py3-none-any.whl (155 kB)\n",
      "Requirement already satisfied: six>=1.9.0 in c:\\users\\dkeddar\\anaconda3\\lib\\site-packages (from google-auth<3.0dev,>=1.25.0->google-api-core[grpc]!=2.0.*,!=2.1.*,!=2.2.*,!=2.3.0,<3.0.0dev,>=1.31.5->google-cloud-bigquery[pandas]) (1.15.0)\n",
      "Collecting rsa<5,>=3.1.4\n",
      "  Downloading rsa-4.8-py3-none-any.whl (39 kB)\n",
      "Collecting cachetools<6.0,>=2.0.0\n",
      "  Downloading cachetools-5.2.0-py3-none-any.whl (9.3 kB)\n",
      "Collecting google-crc32c<2.0dev,>=1.0\n",
      "  Downloading google_crc32c-1.3.0-cp38-cp38-win_amd64.whl (27 kB)\n",
      "Requirement already satisfied: pyparsing>=2.0.2 in c:\\users\\dkeddar\\anaconda3\\lib\\site-packages (from packaging<22.0.0dev,>=14.3->google-cloud-bigquery[pandas]) (2.4.7)\n",
      "Requirement already satisfied: pytz>=2017.3 in c:\\users\\dkeddar\\anaconda3\\lib\\site-packages (from pandas>=1.0.0->google-cloud-bigquery[pandas]) (2021.1)\n",
      "Collecting pyasn1<0.5.0,>=0.4.6\n",
      "  Downloading pyasn1-0.4.8-py2.py3-none-any.whl (77 kB)\n",
      "Requirement already satisfied: urllib3<1.27,>=1.21.1 in c:\\users\\dkeddar\\anaconda3\\lib\\site-packages (from requests<3.0.0dev,>=2.18.0->google-cloud-bigquery[pandas]) (1.26.4)\n",
      "Requirement already satisfied: certifi>=2017.4.17 in c:\\users\\dkeddar\\anaconda3\\lib\\site-packages (from requests<3.0.0dev,>=2.18.0->google-cloud-bigquery[pandas]) (2020.12.5)\n",
      "Requirement already satisfied: idna<3,>=2.5 in c:\\users\\dkeddar\\anaconda3\\lib\\site-packages (from requests<3.0.0dev,>=2.18.0->google-cloud-bigquery[pandas]) (2.10)\n",
      "Requirement already satisfied: chardet<5,>=3.0.2 in c:\\users\\dkeddar\\anaconda3\\lib\\site-packages (from requests<3.0.0dev,>=2.18.0->google-cloud-bigquery[pandas]) (4.0.0)\n",
      "Installing collected packages: pyasn1, rsa, pyasn1-modules, protobuf, cachetools, grpcio, googleapis-common-protos, google-auth, grpcio-status, google-api-core, proto-plus, google-crc32c, pyarrow, google-resumable-media, google-cloud-core, google-cloud-bigquery-storage, google-cloud-bigquery, db-dtypes\n",
      "Successfully installed cachetools-5.2.0 db-dtypes-1.0.2 google-api-core-2.8.2 google-auth-2.9.0 google-cloud-bigquery-3.2.0 google-cloud-bigquery-storage-2.14.0 google-cloud-core-2.3.1 google-crc32c-1.3.0 google-resumable-media-2.3.3 googleapis-common-protos-1.56.3 grpcio-1.47.0 grpcio-status-1.47.0 proto-plus-1.20.6 protobuf-3.20.1 pyarrow-8.0.0 pyasn1-0.4.8 pyasn1-modules-0.2.8 rsa-4.8\n",
      "Collecting google-cloud-storage\n",
      "  Downloading google_cloud_storage-2.4.0-py2.py3-none-any.whl (106 kB)\n",
      "Requirement already satisfied: google-resumable-media>=2.3.2 in c:\\users\\dkeddar\\anaconda3\\lib\\site-packages (from google-cloud-storage) (2.3.3)\n",
      "Requirement already satisfied: google-cloud-core<3.0dev,>=2.3.0 in c:\\users\\dkeddar\\anaconda3\\lib\\site-packages (from google-cloud-storage) (2.3.1)\n",
      "Requirement already satisfied: google-api-core!=2.0.*,!=2.1.*,!=2.2.*,!=2.3.0,<3.0.0dev,>=1.31.5 in c:\\users\\dkeddar\\anaconda3\\lib\\site-packages (from google-cloud-storage) (2.8.2)\n",
      "Requirement already satisfied: requests<3.0.0dev,>=2.18.0 in c:\\users\\dkeddar\\anaconda3\\lib\\site-packages (from google-cloud-storage) (2.25.1)\n",
      "Requirement already satisfied: google-auth<3.0dev,>=1.25.0 in c:\\users\\dkeddar\\anaconda3\\lib\\site-packages (from google-cloud-storage) (2.9.0)\n",
      "Requirement already satisfied: protobuf<5.0.0dev,>=3.15.0 in c:\\users\\dkeddar\\anaconda3\\lib\\site-packages (from google-api-core!=2.0.*,!=2.1.*,!=2.2.*,!=2.3.0,<3.0.0dev,>=1.31.5->google-cloud-storage) (3.20.1)\n",
      "Requirement already satisfied: googleapis-common-protos<2.0dev,>=1.56.2 in c:\\users\\dkeddar\\anaconda3\\lib\\site-packages (from google-api-core!=2.0.*,!=2.1.*,!=2.2.*,!=2.3.0,<3.0.0dev,>=1.31.5->google-cloud-storage) (1.56.3)\n",
      "Requirement already satisfied: cachetools<6.0,>=2.0.0 in c:\\users\\dkeddar\\anaconda3\\lib\\site-packages (from google-auth<3.0dev,>=1.25.0->google-cloud-storage) (5.2.0)\n",
      "Requirement already satisfied: rsa<5,>=3.1.4 in c:\\users\\dkeddar\\anaconda3\\lib\\site-packages (from google-auth<3.0dev,>=1.25.0->google-cloud-storage) (4.8)\n",
      "Requirement already satisfied: pyasn1-modules>=0.2.1 in c:\\users\\dkeddar\\anaconda3\\lib\\site-packages (from google-auth<3.0dev,>=1.25.0->google-cloud-storage) (0.2.8)\n",
      "Requirement already satisfied: six>=1.9.0 in c:\\users\\dkeddar\\anaconda3\\lib\\site-packages (from google-auth<3.0dev,>=1.25.0->google-cloud-storage) (1.15.0)\n",
      "Requirement already satisfied: google-crc32c<2.0dev,>=1.0 in c:\\users\\dkeddar\\anaconda3\\lib\\site-packages (from google-resumable-media>=2.3.2->google-cloud-storage) (1.3.0)\n",
      "Requirement already satisfied: pyasn1<0.5.0,>=0.4.6 in c:\\users\\dkeddar\\anaconda3\\lib\\site-packages (from pyasn1-modules>=0.2.1->google-auth<3.0dev,>=1.25.0->google-cloud-storage) (0.4.8)\n",
      "Requirement already satisfied: certifi>=2017.4.17 in c:\\users\\dkeddar\\anaconda3\\lib\\site-packages (from requests<3.0.0dev,>=2.18.0->google-cloud-storage) (2020.12.5)\n",
      "Requirement already satisfied: chardet<5,>=3.0.2 in c:\\users\\dkeddar\\anaconda3\\lib\\site-packages (from requests<3.0.0dev,>=2.18.0->google-cloud-storage) (4.0.0)\n",
      "Requirement already satisfied: idna<3,>=2.5 in c:\\users\\dkeddar\\anaconda3\\lib\\site-packages (from requests<3.0.0dev,>=2.18.0->google-cloud-storage) (2.10)\n",
      "Requirement already satisfied: urllib3<1.27,>=1.21.1 in c:\\users\\dkeddar\\anaconda3\\lib\\site-packages (from requests<3.0.0dev,>=2.18.0->google-cloud-storage) (1.26.4)\n",
      "Installing collected packages: google-cloud-storage\n",
      "Successfully installed google-cloud-storage-2.4.0\n"
     ]
    }
   ],
   "source": [
    "!pip install google-cloud\n",
    "!pip install google-cloud-bigquery[pandas]\n",
    "!pip install google-cloud-storage"
   ]
  },
  {
   "cell_type": "code",
   "execution_count": null,
   "id": "5133eed5-b875-46b8-a426-434a56efde16",
   "metadata": {},
   "outputs": [],
   "source": [
    "#Set environnement vataibles\n",
    "import os\n",
    "from google.cloud import bigquery\n",
    "\n",
    "os.environ['GOOGLE_APPLICATION_CREDENTIALS'] = 'path to the JSON export from bigquery plt'\n",
    "\n",
    "bigquery_client = bigquery.Client()\n",
    "\n",
    "QUERY = \"\"\"\n",
    "SQL QUERU\n",
    "\"\"\"\n",
    "query_res = bigquery_client.query(QUERY)\n",
    "df = query_res.to_dataframe()\n",
    "\n",
    "df"
   ]
  },
  {
   "cell_type": "markdown",
   "id": "149c62ba-ea24-4b8e-95c0-283463cf19db",
   "metadata": {},
   "source": [
    "<h1> 2. How to connect BigQuery DataSet to Colaboratory on Google </h1>"
   ]
  },
  {
   "cell_type": "code",
   "execution_count": null,
   "id": "35713bf3-a295-4d77-9f9e-01d7ca284867",
   "metadata": {},
   "outputs": [],
   "source": [
    "from google.colab import auth\n",
    "auth.authenticate_user()\n",
    "print('Authenticated')"
   ]
  },
  {
   "cell_type": "code",
   "execution_count": null,
   "id": "04963971-3705-4415-a930-12eccb49457d",
   "metadata": {},
   "outputs": [],
   "source": [
    "%%bigquery --project yourprojectid df\n",
    "SELECT *\n",
    "FROM `project in biguery`"
   ]
  },
  {
   "cell_type": "markdown",
   "id": "a7f37522-ba77-4a41-b273-56209677bc49",
   "metadata": {},
   "source": [
    "<h1> 3. How to connect BigQuery DataSet to Colaboratory on Google </h1>"
   ]
  },
  {
   "cell_type": "code",
   "execution_count": null,
   "id": "121ac755-41dd-43b5-8f79-d91fc8afadd8",
   "metadata": {},
   "outputs": [],
   "source": [
    "!pip install azure-storage-blob --upgrade"
   ]
  },
  {
   "cell_type": "code",
   "execution_count": null,
   "id": "4b344de8-62d4-4561-9576-44ff2fff1643",
   "metadata": {},
   "outputs": [],
   "source": [
    "from io import StringIO\n",
    "import os, uuid\n",
    "import pandas as pd\n",
    "from azure.storage.blob import BlobServiceClient, BlobClient, ContainerClient, __version__,generate_account_sas, ResourceTypes, AccountSasPermissions\n",
    "\n",
    "try:\n",
    "    print(\"Azure Blob Storage v\" + __version__ + \" - installed\")\n",
    "\n",
    "except Exception as ex:\n",
    "    print('Exception:')\n",
    "    print(ex)\n",
    "    print ('Execute ''pip install azure-storage-blob'' to install the package')"
   ]
  },
  {
   "cell_type": "code",
   "execution_count": null,
   "id": "ca6648b6-65f8-460c-8494-a28887ecac93",
   "metadata": {},
   "outputs": [],
   "source": [
    "account_name='bycnitstdatafactlosinger'\n",
    "account_url = 'https://'+account_name+'.blob.core.windows.net/'\n",
    "container_name = 'iaschool-allthings'\n",
    "shared_access_signature = 'shared_access_signature'\n",
    "connection_string = account_url+container_name+shared_access_signature\n",
    "print(connection_string)\n",
    "\n",
    "# Create the BlobServiceClient object \n",
    "blob_service_client = BlobServiceClient(account_url=account_url, credential=shared_access_signature)\n",
    "# Create the ContainerClient object \n",
    "container_client = blob_service_client.get_container_client(container_name)"
   ]
  },
  {
   "cell_type": "markdown",
   "id": "2bc1cc23-7b97-443e-8dfd-06c0c6362a83",
   "metadata": {},
   "source": [
    "<h2> 3.1 Print the Files list stored in the Blob Storage Environnement </h2>"
   ]
  },
  {
   "cell_type": "code",
   "execution_count": null,
   "id": "59f33fd4-b24c-444e-9553-0c57f8f9e226",
   "metadata": {},
   "outputs": [],
   "source": [
    "blob_files = container_client.list_blobs()\n",
    "blob_list=[]\n",
    "for blob in blob_files:\n",
    "    blob_list.append(blob.name)\n",
    "    print(blob.name + '\\n')"
   ]
  },
  {
   "cell_type": "code",
   "execution_count": null,
   "id": "6ad9ef9f-645b-4e28-84ce-85b1eef82acb",
   "metadata": {},
   "outputs": [],
   "source": [
    "print(blob_list)"
   ]
  },
  {
   "cell_type": "markdown",
   "id": "41966011-8b9d-4482-8d9b-f48cbc040804",
   "metadata": {},
   "source": [
    "<h2> 3.2 Download file from Blob Storage Environnement </h2>"
   ]
  },
  {
   "cell_type": "code",
   "execution_count": null,
   "id": "cd62e0d7-9144-4edf-a638-1e6fe95cd16b",
   "metadata": {},
   "outputs": [],
   "source": [
    "# Define temp file\n",
    "localfilename = 'tmp_downloaded_data.csv'\n",
    "\n",
    "# Download data into the temp file\n",
    "with open(localfilename, \"wb\") as my_blob:\n",
    "    blob_data = container_client.download_blob(file)\n",
    "    blob_data.readinto(my_blob)\n",
    "    \n",
    "# Save the data in a dataframe\n",
    "df = pd.read_csv(localfilename, sep=';',encoding='utf-8')\n",
    "\n",
    "# Remove temp File\n",
    "os.remove(localfilename)"
   ]
  },
  {
   "cell_type": "code",
   "execution_count": null,
   "id": "4727286d-ba1a-440f-b31c-25b6e8a0bd74",
   "metadata": {},
   "outputs": [],
   "source": []
  },
  {
   "cell_type": "code",
   "execution_count": null,
   "id": "1da53a09-f671-4c90-9a5b-4650e04f27a1",
   "metadata": {},
   "outputs": [],
   "source": []
  },
  {
   "cell_type": "code",
   "execution_count": null,
   "id": "fd396b8b-7223-4706-89c4-b5feb755ad66",
   "metadata": {},
   "outputs": [],
   "source": []
  },
  {
   "cell_type": "code",
   "execution_count": null,
   "id": "bcd44311-9fb5-4e8d-a7bb-8e555b2fe099",
   "metadata": {},
   "outputs": [],
   "source": []
  }
 ],
 "metadata": {
  "kernelspec": {
   "display_name": "Python 3",
   "language": "python",
   "name": "python3"
  },
  "language_info": {
   "codemirror_mode": {
    "name": "ipython",
    "version": 3
   },
   "file_extension": ".py",
   "mimetype": "text/x-python",
   "name": "python",
   "nbconvert_exporter": "python",
   "pygments_lexer": "ipython3",
   "version": "3.8.8"
  }
 },
 "nbformat": 4,
 "nbformat_minor": 5
}
