{
  "nbformat": 4,
  "nbformat_minor": 0,
  "metadata": {
    "colab": {
      "name": "Perso - Outlier detection",
      "provenance": []
    },
    "kernelspec": {
      "name": "python3",
      "display_name": "Python 3"
    },
    "language_info": {
      "name": "python"
    }
  },
  "cells": [
    {
      "cell_type": "markdown",
      "source": [
        "La valeur aberrante est une observation numériquement distante du reste des données ou, en termes simples, la valeur qui se situe hors de l'intervalle.\n",
        "\n",
        "1. Hypothesis Testing\n",
        "2. Z-score method\n",
        "3. Robust Z-score\n",
        "4. I.Q.R method\n",
        "5. Winsorization method(Percentile Capping)\n",
        "6. DBSCAN Clustering\n",
        "7. Isolation Forest\n",
        "8. Visualizing the data\n"
      ],
      "metadata": {
        "id": "sU8P15XpwdWo"
      }
    },
    {
      "cell_type": "code",
      "execution_count": null,
      "metadata": {
        "colab": {
          "base_uri": "https://localhost:8080/"
        },
        "id": "xMIIg6jUwZ1w",
        "outputId": "9ef30a0a-a922-4541-fa40-656c208242e3"
      },
      "outputs": [
        {
          "output_type": "stream",
          "name": "stdout",
          "text": [
            "Valeur calculée par Grubbs: 1.4274928542926593\n",
            "Valeur critique de Grubbs: 1.887145117792422\n",
            "A partir du test de Grubbs, nous observons que la valeur calculée est inférieure à la valeur critique, nous acceptons l'hypothèse nulle et concluons qu'il n'y a pas de valeurs aberrantes.\n",
            "\n",
            "Valeur calculée par Grubbs: 2.2765147221587774\n",
            "Valeur critique de Grubbs: 2.019968507680656\n",
            "A partir du test de Grubbs, nous observons que la valeur calculée est supérieure à la valeur critique, rejetons l'hypothèse nulle et concluons qu'il y a une valeur aberrante.\n",
            "\n"
          ]
        }
      ],
      "source": [
        "#1. Hypothesis Testing\n",
        "import numpy as np\n",
        "import scipy.stats as stats\n",
        "\n",
        "x = np.array([12,13,14,19,21,23])\n",
        "y = np.array([12,13,14,19,21,23,45])\n",
        "\n",
        "def grubbs_test(x):\n",
        "    n = len(x)\n",
        "    mean_x = np.mean(x)\n",
        "    sd_x = np.std(x)\n",
        "    numerator = max(abs(x-mean_x))\n",
        "    g_calculated = numerator/sd_x\n",
        "    print(\"Valeur calculée par Grubbs:\",g_calculated)\n",
        "    t_value = stats.t.ppf(1 - 0.05 / (2 * n), n - 2)\n",
        "    g_critical = ((n - 1) * np.sqrt(np.square(t_value))) / (np.sqrt(n) * np.sqrt(n - 2 + np.square(t_value)))\n",
        "    print(\"Valeur critique de Grubbs:\",g_critical)\n",
        "    if g_critical > g_calculated:\n",
        "        print(\"A partir du test de Grubbs, nous observons que la valeur calculée est inférieure à la valeur critique, nous acceptons l'hypothèse nulle et concluons qu'il n'y a pas de valeurs aberrantes.\\n\")\n",
        "    else:\n",
        "        print(\"A partir du test de Grubbs, nous observons que la valeur calculée est supérieure à la valeur critique, rejetons l'hypothèse nulle et concluons qu'il y a une valeur aberrante.\\n\")\n",
        "grubbs_test(x)\n",
        "grubbs_test(y)"
      ]
    },
    {
      "cell_type": "code",
      "source": [
        "#2. Z-score method\n",
        "import pandas as pd\n",
        "import numpy as np\n",
        "y = pd.DataFrame(y)\n",
        "x = pd.DataFrame(x)\n",
        "out=[]\n",
        "def Zscore_outlier(df):\n",
        "    m = np.mean(df)\n",
        "    sd = np.std(df)\n",
        "    for i in df: \n",
        "        z = (i-m)/sd\n",
        "        if np.abs(z) > 3: \n",
        "            out.append(i)\n",
        "    print(\"Outliers:\",out)\n",
        "Zscore_outlier(y[0])"
      ],
      "metadata": {
        "colab": {
          "base_uri": "https://localhost:8080/"
        },
        "id": "I8yrnbZtww7_",
        "outputId": "43b25910-d5b9-41b7-95d8-eac646728536"
      },
      "execution_count": null,
      "outputs": [
        {
          "output_type": "stream",
          "name": "stdout",
          "text": [
            "Outliers: []\n"
          ]
        }
      ]
    },
    {
      "cell_type": "code",
      "source": [
        "#3. ROBUST Z-SCORE\n",
        "\n",
        "import pandas as pd\n",
        "import numpy as np\n",
        "y = pd.DataFrame(y)\n",
        "x = pd.DataFrame(x)\n",
        "out=[]\n",
        "def ZRscore_outlier(df):\n",
        "    med = np.median(df)\n",
        "    ma = stats.median_absolute_deviation(df)\n",
        "    for i in df: \n",
        "        z = (0.6745*(i-med))/ (np.median(ma))\n",
        "        if np.abs(z) > 3: \n",
        "            out.append(i)\n",
        "    print(\"Outliers:\",out)\n",
        "ZRscore_outlier(y[0])"
      ],
      "metadata": {
        "colab": {
          "base_uri": "https://localhost:8080/"
        },
        "id": "3lPCin9_ww-N",
        "outputId": "b589318c-6a44-4a2b-8078-d2ffb24c369a"
      },
      "execution_count": null,
      "outputs": [
        {
          "output_type": "stream",
          "name": "stdout",
          "text": [
            "Outliers: []\n"
          ]
        }
      ]
    },
    {
      "cell_type": "code",
      "source": [
        "#4. IQR METHOD\n",
        "import pandas as pd\n",
        "import numpy as np\n",
        "#df = pd.read_csv()\n",
        "y = pd.DataFrame(y)\n",
        "x = pd.DataFrame(x)\n",
        "out=[]\n",
        "def iqr_outliers(df):\n",
        "    q1 = df.quantile(0.25)\n",
        "    q3 = df.quantile(0.75)\n",
        "    iqr = q3-q1\n",
        "    Lower_tail = q1 - 1.5 * iqr\n",
        "    Upper_tail = q3 + 1.5 * iqr\n",
        "    for i in df:\n",
        "        if i > Upper_tail or i < Lower_tail:\n",
        "            out.append(i)\n",
        "    print(\"Outliers:\",out)\n",
        "iqr_outliers(y[0])"
      ],
      "metadata": {
        "colab": {
          "base_uri": "https://localhost:8080/"
        },
        "id": "zz2U-EGwwxAl",
        "outputId": "6ac31499-3f17-47fc-ff94-decd5db7735b"
      },
      "execution_count": null,
      "outputs": [
        {
          "output_type": "stream",
          "name": "stdout",
          "text": [
            "Outliers: [45]\n"
          ]
        }
      ]
    },
    {
      "cell_type": "code",
      "source": [
        "#5. WINSORIZATION METHOD(PERCENTILE CAPPING)\n",
        "import pandas as pd\n",
        "import numpy as np\n",
        "y = pd.DataFrame(y)\n",
        "x = pd.DataFrame(x)\n",
        "out=[]\n",
        "def Winsorization_outliers(df):\n",
        "    q1 = np.percentile(df , 1)\n",
        "    q3 = np.percentile(df , 99)\n",
        "    for i in df:\n",
        "        if i > q3 or i < q1:\n",
        "            out.append(i)\n",
        "    print(\"Outliers:\",out)\n",
        "Winsorization_outliers(y[0])"
      ],
      "metadata": {
        "colab": {
          "base_uri": "https://localhost:8080/"
        },
        "id": "fbZwVFekwxFH",
        "outputId": "6e0101bc-7a81-45e1-9117-5d7ee1c668bf"
      },
      "execution_count": null,
      "outputs": [
        {
          "output_type": "stream",
          "name": "stdout",
          "text": [
            "Outliers: [12, 45]\n"
          ]
        }
      ]
    },
    {
      "cell_type": "code",
      "source": [
        "#6. DBSCAN (DENSITY-BASED SPATIAL CLUSTERING OF APPLICATIONS WITH NOISE)\n",
        "import pandas as pd\n",
        "from sklearn.cluster import DBSCAN\n",
        "y = pd.DataFrame(y)\n",
        "x = pd.DataFrame(x)\n",
        "def DB_outliers(df):\n",
        "    outlier_detection = DBSCAN(eps = 2, metric='euclidean', min_samples = 5)\n",
        "    clusters = outlier_detection.fit_predict(df.values.reshape(-1,1))\n",
        "    data = pd.DataFrame()\n",
        "    data['cluster'] = clusters\n",
        "    print(data['cluster'].value_counts().sort_values(ascending=False))\n",
        "DB_outliers(y[0])"
      ],
      "metadata": {
        "colab": {
          "base_uri": "https://localhost:8080/"
        },
        "id": "gF-UhrbwwxG9",
        "outputId": "9027dc5b-5435-4896-a93b-02c624e1b1d3"
      },
      "execution_count": null,
      "outputs": [
        {
          "output_type": "stream",
          "name": "stdout",
          "text": [
            "-1    7\n",
            "Name: cluster, dtype: int64\n"
          ]
        }
      ]
    },
    {
      "cell_type": "code",
      "source": [
        "#7. ISOLATION FOREST\n",
        "from sklearn.ensemble import IsolationForest\n",
        "import numpy as np\n",
        "import pandas as pd\n",
        "y = pd.DataFrame(y)\n",
        "x = pd.DataFrame(x)\n",
        "y[0].fillna(y[0].median(),inplace=True)\n",
        "x[0].fillna(x[0].median(),inplace=True)\n",
        "def Iso_outliers(df):\n",
        "    iso = IsolationForest(random_state = 1, contamination= 'auto')\n",
        "    preds = iso.fit_predict(df.values.reshape(-1,1))\n",
        "    data = pd.DataFrame()\n",
        "    data['cluster'] = preds\n",
        "    print(data['cluster'].value_counts().sort_values(ascending=False))\n",
        "Iso_outliers(y[0]) "
      ],
      "metadata": {
        "colab": {
          "base_uri": "https://localhost:8080/"
        },
        "id": "aYfHaucbwxMz",
        "outputId": "426ca8cc-54da-41f9-e732-85a26639c257"
      },
      "execution_count": null,
      "outputs": [
        {
          "output_type": "stream",
          "name": "stdout",
          "text": [
            " 1    6\n",
            "-1    1\n",
            "Name: cluster, dtype: int64\n"
          ]
        }
      ]
    },
    {
      "cell_type": "code",
      "source": [
        "#8. VISUALIZING THE DATA\n",
        "import pandas as pd\n",
        "import seaborn as sns\n",
        "from matplotlib import pyplot as plt\n",
        "from statsmodels.graphics.gofplots import qqplot\n",
        "y = pd.DataFrame(y)\n",
        "x = pd.DataFrame(x)\n",
        "\n",
        "def Box_plots(df):\n",
        "    plt.figure(figsize=(10, 4))\n",
        "    plt.title(\"Box Plot\")\n",
        "    sns.boxplot(df)\n",
        "    plt.show()\n",
        "Box_plots(y[0])\n",
        "\n",
        "def hist_plots(df):\n",
        "    plt.figure(figsize=(10, 4))\n",
        "    plt.hist(df)\n",
        "    plt.title(\"Histogram Plot\")\n",
        "    plt.show()\n",
        "hist_plots(y[0])\n",
        "\n",
        "#def scatter_plots(df1,df2):\n",
        " #   fig, ax = plt.subplots(figsize=(10,4))\n",
        " #   ax.scatter(df1,df2)\n",
        " #   ax.set_xlabel('Age')\n",
        " #   ax.set_ylabel('Fare')\n",
        " #   plt.title(\"Scatter Plot\")\n",
        " #   plt.show()\n",
        "#scatter_plots(train['Age'],train['Fare'])\n",
        "\n",
        "def dist_plots(df):\n",
        "    plt.figure(figsize=(10, 4))\n",
        "    sns.distplot(df)\n",
        "    plt.title(\"Distribution plot\")\n",
        "    sns.despine()\n",
        "    plt.show()\n",
        "dist_plots(y[0])\n",
        "\n",
        "def qq_plots(df):\n",
        "    plt.figure(figsize=(10, 4))\n",
        "    qqplot(df,line='s')\n",
        "    plt.title(\"Normal QQPlot\")\n",
        "    plt.show()\n",
        "qq_plots(y[0])"
      ],
      "metadata": {
        "colab": {
          "base_uri": "https://localhost:8080/",
          "height": 1000
        },
        "id": "HseBBwRU004e",
        "outputId": "84e86dc7-df40-4a0a-9b57-1a4988c725f7"
      },
      "execution_count": null,
      "outputs": [
        {
          "output_type": "stream",
          "name": "stderr",
          "text": [
            "/usr/local/lib/python3.7/dist-packages/statsmodels/tools/_testing.py:19: FutureWarning: pandas.util.testing is deprecated. Use the functions in the public API at pandas.testing instead.\n",
            "  import pandas.util.testing as tm\n",
            "/usr/local/lib/python3.7/dist-packages/seaborn/_decorators.py:43: FutureWarning: Pass the following variable as a keyword arg: x. From version 0.12, the only valid positional argument will be `data`, and passing other arguments without an explicit keyword will result in an error or misinterpretation.\n",
            "  FutureWarning\n"
          ]
        },
        {
          "output_type": "display_data",
          "data": {
            "text/plain": [
              "<Figure size 720x288 with 1 Axes>"
            ],
            "image/png": "[encoded data removed]"
          },
          "metadata": {
            "needs_background": "light"
          }
        },
        {
          "output_type": "display_data",
          "data": {
            "text/plain": [
              "<Figure size 720x288 with 1 Axes>"
            ],
            "image/png": "[encoded data removed]"
          },
          "metadata": {
            "needs_background": "light"
          }
        },
        {
          "output_type": "stream",
          "name": "stderr",
          "text": [
            "/usr/local/lib/python3.7/dist-packages/seaborn/distributions.py:2619: FutureWarning: `distplot` is a deprecated function and will be removed in a future version. Please adapt your code to use either `displot` (a figure-level function with similar flexibility) or `histplot` (an axes-level function for histograms).\n",
            "  warnings.warn(msg, FutureWarning)\n"
          ]
        },
        {
          "output_type": "display_data",
          "data": {
            "text/plain": [
              "<Figure size 720x288 with 1 Axes>"
            ],
            "image/png": "[encoded data removed]"
          },
          "metadata": {
            "needs_background": "light"
          }
        },
        {
          "output_type": "display_data",
          "data": {
            "text/plain": [
              "<Figure size 720x288 with 0 Axes>"
            ]
          },
          "metadata": {}
        },
        {
          "output_type": "display_data",
          "data": {
            "text/plain": [
              "<Figure size 432x288 with 1 Axes>"
            ],
            "image/png": "[encoded data removed]"
          },
          "metadata": {
            "needs_background": "light"
          }
        }
      ]
    },
    {
      "cell_type": "markdown",
      "source": [
        "Effect : \n",
        "* Les valeurs aberrantes affectent gravement la moyenne et l'écart-type de l'ensemble de données. Elles peuvent donner des résultats statistiquement erronés.\n",
        "* Elles augmentent la variance des erreurs et réduisent la puissance des tests statistiques.\n",
        "* Si les valeurs aberrantes sont distribuées de manière non aléatoire, elles peuvent diminuer la normalité.\n",
        "* La plupart des algorithmes d'apprentissage automatique ne fonctionnent pas bien en présence de valeurs aberrantes. Il est donc souhaitable de détecter et de supprimer les valeurs aberrantes.\n",
        "* Elles peuvent également avoir un impact sur l'hypothèse de base de la régression, de l'ANOVA et d'autres hypothèses de modèles statistiques.\n",
        "\n",
        "Les traiter avant de construire un algorithme de ML\n",
        "\n",
        "1. Suppression des observations.\n",
        "2. Transformer des valeurs.\n",
        "3. Imputation.\n",
        "4. Traitement séparé"
      ],
      "metadata": {
        "id": "Pq1CIf0o1Ste"
      }
    },
    {
      "cell_type": "code",
      "source": [
        "#1. Suppression des observations.\n",
        "import pandas as pd\n",
        "import numpy as np\n",
        "import seaborn as sns\n",
        "from matplotlib import pyplot as plt\n",
        "y = pd.DataFrame(y)\n",
        "x = pd.DataFrame(x)\n",
        "\n",
        "sns.boxplot(y[0])\n",
        "plt.title(\" \")\n",
        "plt.show()\n",
        "\n",
        "def drop_outliers(df, field_name):\n",
        "    iqr = 1.5 * (np.percentile(df[field_name], 75) - np.percentile(df[field_name], 25))\n",
        "    df.drop(df[df[field_name] > (iqr + np.percentile(df[field_name], 75))].index, inplace=True)\n",
        "    df.drop(df[df[field_name] < (np.percentile(df[field_name], 25) - iqr)].index, inplace=True)\n",
        "drop_outliers(y, 0)\n",
        "sns.boxplot(y[0])\n",
        "plt.title(\" \")\n",
        "plt.show()"
      ],
      "metadata": {
        "colab": {
          "base_uri": "https://localhost:8080/",
          "height": 662
        },
        "id": "adY6vkSBwxO1",
        "outputId": "5c9fabeb-ab33-4e9e-8d42-206c085fbd3a"
      },
      "execution_count": null,
      "outputs": [
        {
          "output_type": "stream",
          "name": "stderr",
          "text": [
            "/usr/local/lib/python3.7/dist-packages/seaborn/_decorators.py:43: FutureWarning: Pass the following variable as a keyword arg: x. From version 0.12, the only valid positional argument will be `data`, and passing other arguments without an explicit keyword will result in an error or misinterpretation.\n",
            "  FutureWarning\n"
          ]
        },
        {
          "output_type": "display_data",
          "data": {
            "text/plain": [
              "<Figure size 432x288 with 1 Axes>"
            ],
            "image/png": "[encoded data removed]"
          },
          "metadata": {
            "needs_background": "light"
          }
        },
        {
          "output_type": "stream",
          "name": "stderr",
          "text": [
            "/usr/local/lib/python3.7/dist-packages/seaborn/_decorators.py:43: FutureWarning: Pass the following variable as a keyword arg: x. From version 0.12, the only valid positional argument will be `data`, and passing other arguments without an explicit keyword will result in an error or misinterpretation.\n",
            "  FutureWarning\n"
          ]
        },
        {
          "output_type": "display_data",
          "data": {
            "text/plain": [
              "<Figure size 432x288 with 1 Axes>"
            ],
            "image/png": "[encoded data removed]"
          },
          "metadata": {
            "needs_background": "light"
          }
        }
      ]
    },
    {
      "cell_type": "code",
      "source": [
        "#2. Transformer des valeurs.\n",
        "#Scalling\n",
        "import pandas as pd\n",
        "import numpy as np\n",
        "import seaborn as sns\n",
        "from matplotlib import pyplot as plt\n",
        "from sklearn import preprocessing\n",
        "\n",
        "y = pd.DataFrame(y)\n",
        "x = pd.DataFrame(x)\n",
        "\n",
        "plt.hist(y[0])\n",
        "plt.title(\" \")\n",
        "plt.show()\n",
        "scaler = preprocessing.StandardScaler()\n",
        "y[0] = scaler.fit_transform(y[0].values.reshape(-1,1))\n",
        "plt.hist(y[0])\n",
        "plt.title(\" \")\n",
        "plt.show()"
      ],
      "metadata": {
        "colab": {
          "base_uri": "https://localhost:8080/",
          "height": 545
        },
        "id": "h0ZiSRHD1yGP",
        "outputId": "2417360c-ac83-4886-eec0-a7904f121b92"
      },
      "execution_count": null,
      "outputs": [
        {
          "output_type": "display_data",
          "data": {
            "text/plain": [
              "<Figure size 432x288 with 1 Axes>"
            ],
            "image/png": "[encoded data removed]"
          },
          "metadata": {
            "needs_background": "light"
          }
        },
        {
          "output_type": "display_data",
          "data": {
            "text/plain": [
              "<Figure size 432x288 with 1 Axes>"
            ],
            "image/png": "[encoded data removed]"
          },
          "metadata": {
            "needs_background": "light"
          }
        }
      ]
    },
    {
      "cell_type": "code",
      "source": [
        "#2. Transformer des valeurs.\n",
        "#Log Transformation\n",
        "import pandas as pd\n",
        "import numpy as np\n",
        "import seaborn as sns\n",
        "from matplotlib import pyplot as plt\n",
        "\n",
        "y = pd.DataFrame(y)\n",
        "x = pd.DataFrame(x)\n",
        "\n",
        "sns.distplot(y[0])\n",
        "plt.title(\" \")\n",
        "sns.despine()\n",
        "plt.show()\n",
        "y[0] = np.log(y[0])\n",
        "sns.distplot(y[0])\n",
        "plt.title(\" \")\n",
        "sns.despine()\n",
        "plt.show()"
      ],
      "metadata": {
        "colab": {
          "base_uri": "https://localhost:8080/",
          "height": 697
        },
        "id": "7XD66TDZ2dlQ",
        "outputId": "988677e7-d201-47ab-d81e-e9a3d515ae9f"
      },
      "execution_count": null,
      "outputs": [
        {
          "output_type": "stream",
          "name": "stderr",
          "text": [
            "/usr/local/lib/python3.7/dist-packages/seaborn/distributions.py:2619: FutureWarning: `distplot` is a deprecated function and will be removed in a future version. Please adapt your code to use either `displot` (a figure-level function with similar flexibility) or `histplot` (an axes-level function for histograms).\n",
            "  warnings.warn(msg, FutureWarning)\n"
          ]
        },
        {
          "output_type": "display_data",
          "data": {
            "text/plain": [
              "<Figure size 432x288 with 1 Axes>"
            ],
            "image/png": "[encoded data removed]"
          },
          "metadata": {
            "needs_background": "light"
          }
        },
        {
          "output_type": "stream",
          "name": "stderr",
          "text": [
            "/usr/local/lib/python3.7/dist-packages/pandas/core/arraylike.py:364: RuntimeWarning: invalid value encountered in log\n",
            "  result = getattr(ufunc, method)(*inputs, **kwargs)\n",
            "/usr/local/lib/python3.7/dist-packages/seaborn/distributions.py:2619: FutureWarning: `distplot` is a deprecated function and will be removed in a future version. Please adapt your code to use either `displot` (a figure-level function with similar flexibility) or `histplot` (an axes-level function for histograms).\n",
            "  warnings.warn(msg, FutureWarning)\n"
          ]
        },
        {
          "output_type": "display_data",
          "data": {
            "text/plain": [
              "<Figure size 432x288 with 1 Axes>"
            ],
            "image/png": "[encoded data removed]"
          },
          "metadata": {
            "needs_background": "light"
          }
        }
      ]
    },
    {
      "cell_type": "code",
      "source": [
        "#2. Transformer des valeurs.\n",
        "#cube root Transformation\n",
        "import pandas as pd\n",
        "import numpy as np\n",
        "import seaborn as sns\n",
        "from matplotlib import pyplot as plt\n",
        "\n",
        "y = pd.DataFrame(y)\n",
        "x = pd.DataFrame(x)\n",
        "\n",
        "plt.hist(y[0])\n",
        "plt.title(\" \")\n",
        "plt.show()\n",
        "y[0] = (y[0]**(1/3))\n",
        "plt.hist(y[0])\n",
        "plt.title(\" \")\n",
        "plt.show()"
      ],
      "metadata": {
        "colab": {
          "base_uri": "https://localhost:8080/",
          "height": 545
        },
        "id": "zd5Luc7H2s9r",
        "outputId": "0e870c4c-6043-4163-c0a8-28875b89bfe1"
      },
      "execution_count": null,
      "outputs": [
        {
          "output_type": "display_data",
          "data": {
            "text/plain": [
              "<Figure size 432x288 with 1 Axes>"
            ],
            "image/png": "[encoded data removed]"
          },
          "metadata": {
            "needs_background": "light"
          }
        },
        {
          "output_type": "display_data",
          "data": {
            "text/plain": [
              "<Figure size 432x288 with 1 Axes>"
            ],
            "image/png": "[encoded data removed]"
          },
          "metadata": {
            "needs_background": "light"
          }
        }
      ]
    },
    {
      "cell_type": "code",
      "source": [
        "#2. Transformer des valeurs.\n",
        "#Box-transformation\n",
        "import pandas as pd\n",
        "import numpy as np\n",
        "import seaborn as sns\n",
        "from matplotlib import pyplot as plt\n",
        "import scipy\n",
        "\n",
        "y = pd.DataFrame(y)\n",
        "x = pd.DataFrame(x)\n",
        "\n",
        "sns.boxplot(y[0])\n",
        "plt.title(\" \")\n",
        "plt.show()\n",
        "y[0],fitted_lambda= scipy.stats.boxcox(y[0] ,lmbda=None)\n",
        "sns.boxplot(y[0])\n",
        "plt.title(\" \")\n",
        "plt.show()"
      ],
      "metadata": {
        "colab": {
          "base_uri": "https://localhost:8080/",
          "height": 662
        },
        "id": "mu6LvvSb29Q-",
        "outputId": "e678390f-e1d7-4c4f-a8d2-64200384e68c"
      },
      "execution_count": null,
      "outputs": [
        {
          "output_type": "stream",
          "name": "stderr",
          "text": [
            "/usr/local/lib/python3.7/dist-packages/seaborn/_decorators.py:43: FutureWarning: Pass the following variable as a keyword arg: x. From version 0.12, the only valid positional argument will be `data`, and passing other arguments without an explicit keyword will result in an error or misinterpretation.\n",
            "  FutureWarning\n"
          ]
        },
        {
          "output_type": "display_data",
          "data": {
            "text/plain": [
              "<Figure size 432x288 with 1 Axes>"
            ],
            "image/png": "[encoded data removed]"
          },
          "metadata": {
            "needs_background": "light"
          }
        },
        {
          "output_type": "stream",
          "name": "stderr",
          "text": [
            "/usr/local/lib/python3.7/dist-packages/seaborn/_decorators.py:43: FutureWarning: Pass the following variable as a keyword arg: x. From version 0.12, the only valid positional argument will be `data`, and passing other arguments without an explicit keyword will result in an error or misinterpretation.\n",
            "  FutureWarning\n"
          ]
        },
        {
          "output_type": "display_data",
          "data": {
            "text/plain": [
              "<Figure size 432x288 with 1 Axes>"
            ],
            "image/png": "[encoded data removed]"
          },
          "metadata": {
            "needs_background": "light"
          }
        }
      ]
    },
    {
      "cell_type": "code",
      "source": [
        "#3. Imputation.\n",
        "#mean imputation\n",
        "import pandas as pd\n",
        "import numpy as np\n",
        "\n",
        "y = pd.DataFrame(y)\n",
        "x = pd.DataFrame(x)\n",
        "\n",
        "sns.boxplot(y[0])\n",
        "plt.title(\"Box Plot befor mean imputation\")\n",
        "plt.show()\n",
        "q1 = y[0].quantile(0.25)\n",
        "q3 = y[0].quantile(0.75)\n",
        "iqr = q3-q1\n",
        "Lower_tail = q1 - 1.5 * iqr\n",
        "Upper_tail = q3 + 1.5 * iqr\n",
        "m = np.mean(y[0])\n",
        "for i in y[0]:\n",
        "    if i > Upper_tail or i < Lower_tail:\n",
        "            y[0] = y[0].replace(i, m)\n",
        "sns.boxplot(y[0])\n",
        "plt.title(\"Box Plot after mean imputation\")\n",
        "plt.show()   "
      ],
      "metadata": {
        "colab": {
          "base_uri": "https://localhost:8080/",
          "height": 662
        },
        "id": "TNOSgbdx1yZr",
        "outputId": "b55a8fc4-593d-4ad1-8dd2-4969001af409"
      },
      "execution_count": null,
      "outputs": [
        {
          "output_type": "stream",
          "name": "stderr",
          "text": [
            "/usr/local/lib/python3.7/dist-packages/seaborn/_decorators.py:43: FutureWarning: Pass the following variable as a keyword arg: x. From version 0.12, the only valid positional argument will be `data`, and passing other arguments without an explicit keyword will result in an error or misinterpretation.\n",
            "  FutureWarning\n"
          ]
        },
        {
          "output_type": "display_data",
          "data": {
            "text/plain": [
              "<Figure size 432x288 with 1 Axes>"
            ],
            "image/png": "[encoded data removed]"
          },
          "metadata": {
            "needs_background": "light"
          }
        },
        {
          "output_type": "stream",
          "name": "stderr",
          "text": [
            "/usr/local/lib/python3.7/dist-packages/seaborn/_decorators.py:43: FutureWarning: Pass the following variable as a keyword arg: x. From version 0.12, the only valid positional argument will be `data`, and passing other arguments without an explicit keyword will result in an error or misinterpretation.\n",
            "  FutureWarning\n"
          ]
        },
        {
          "output_type": "display_data",
          "data": {
            "text/plain": [
              "<Figure size 432x288 with 1 Axes>"
            ],
            "image/png": "[encoded data removed]"
          },
          "metadata": {
            "needs_background": "light"
          }
        }
      ]
    },
    {
      "cell_type": "code",
      "source": [
        "#3. Imputation.\n",
        "#median imputation\n",
        "import pandas as pd\n",
        "import numpy as np\n",
        "\n",
        "y = pd.DataFrame(y)\n",
        "x = pd.DataFrame(x)\n",
        "\n",
        "sns.boxplot(y[0])\n",
        "plt.title(\"Box Plot before median imputation\")\n",
        "plt.show()\n",
        "q1 = y[0].quantile(0.25)\n",
        "q3 = y[0].quantile(0.75)\n",
        "iqr = q3-q1\n",
        "Lower_tail = q1 - 1.5 * iqr\n",
        "Upper_tail = q3 + 1.5 * iqr\n",
        "med = np.median(y[0])\n",
        "for i in y[0]:\n",
        "    if i > Upper_tail or i < Lower_tail:\n",
        "            y[0] = y[0].replace(i, med)\n",
        "sns.boxplot(y[0])\n",
        "plt.title(\"Box Plot after median imputation\")\n",
        "plt.show()  "
      ],
      "metadata": {
        "colab": {
          "base_uri": "https://localhost:8080/",
          "height": 662
        },
        "id": "CRGLnhIe3obA",
        "outputId": "84b6a9bf-9cd3-4fa0-b36c-97ade9ec62e4"
      },
      "execution_count": null,
      "outputs": [
        {
          "output_type": "stream",
          "name": "stderr",
          "text": [
            "/usr/local/lib/python3.7/dist-packages/seaborn/_decorators.py:43: FutureWarning: Pass the following variable as a keyword arg: x. From version 0.12, the only valid positional argument will be `data`, and passing other arguments without an explicit keyword will result in an error or misinterpretation.\n",
            "  FutureWarning\n"
          ]
        },
        {
          "output_type": "display_data",
          "data": {
            "text/plain": [
              "<Figure size 432x288 with 1 Axes>"
            ],
            "image/png": "[encoded data removed]"
          },
          "metadata": {
            "needs_background": "light"
          }
        },
        {
          "output_type": "stream",
          "name": "stderr",
          "text": [
            "/usr/local/lib/python3.7/dist-packages/seaborn/_decorators.py:43: FutureWarning: Pass the following variable as a keyword arg: x. From version 0.12, the only valid positional argument will be `data`, and passing other arguments without an explicit keyword will result in an error or misinterpretation.\n",
            "  FutureWarning\n"
          ]
        },
        {
          "output_type": "display_data",
          "data": {
            "text/plain": [
              "<Figure size 432x288 with 1 Axes>"
            ],
            "image/png": "[encoded data removed]"
          },
          "metadata": {
            "needs_background": "light"
          }
        }
      ]
    },
    {
      "cell_type": "code",
      "source": [
        "#3. Imputation.\n",
        "#Zero value imputation\n",
        "import pandas as pd\n",
        "import numpy as np\n",
        "\n",
        "y = pd.DataFrame(y)\n",
        "x = pd.DataFrame(x)\n",
        "\n",
        "sns.boxplot(y[0])\n",
        "plt.title(\"Box Plot before Zero value imputation\")\n",
        "plt.show()\n",
        "q1 = y[0].quantile(0.25)\n",
        "q3 = y[0].quantile(0.75)\n",
        "iqr = q3-q1\n",
        "Lower_tail = q1 - 1.5 * iqr\n",
        "Upper_tail = q3 + 1.5 * iqr\n",
        "for i in y[0]:\n",
        "    if i > Upper_tail or i < Lower_tail:\n",
        "            y[0] = y[0].replace(i, 0)\n",
        "sns.boxplot(y[0])\n",
        "plt.title(\"Box Plot after Zero value imputation\")\n",
        "plt.show()      "
      ],
      "metadata": {
        "colab": {
          "base_uri": "https://localhost:8080/",
          "height": 662
        },
        "id": "6RKnjac71yd0",
        "outputId": "901b477d-afca-4f8d-c9d5-6b66d5d4f0b4"
      },
      "execution_count": null,
      "outputs": [
        {
          "output_type": "stream",
          "name": "stderr",
          "text": [
            "/usr/local/lib/python3.7/dist-packages/seaborn/_decorators.py:43: FutureWarning: Pass the following variable as a keyword arg: x. From version 0.12, the only valid positional argument will be `data`, and passing other arguments without an explicit keyword will result in an error or misinterpretation.\n",
            "  FutureWarning\n"
          ]
        },
        {
          "output_type": "display_data",
          "data": {
            "text/plain": [
              "<Figure size 432x288 with 1 Axes>"
            ],
            "image/png": "[encoded data removed]"
          },
          "metadata": {
            "needs_background": "light"
          }
        },
        {
          "output_type": "stream",
          "name": "stderr",
          "text": [
            "/usr/local/lib/python3.7/dist-packages/seaborn/_decorators.py:43: FutureWarning: Pass the following variable as a keyword arg: x. From version 0.12, the only valid positional argument will be `data`, and passing other arguments without an explicit keyword will result in an error or misinterpretation.\n",
            "  FutureWarning\n"
          ]
        },
        {
          "output_type": "display_data",
          "data": {
            "text/plain": [
              "<Figure size 432x288 with 1 Axes>"
            ],
            "image/png": "[encoded data removed]"
          },
          "metadata": {
            "needs_background": "light"
          }
        }
      ]
    },
    {
      "cell_type": "markdown",
      "source": [
        "Conclusion:\n",
        "1. La médiane est la meilleure mesure de la tendance centrale lorsque les données sont aberrantes ou asymétriques.\n",
        "2. La méthode de winsorization ou le plafonnement du percentile est la meilleure technique de détection des valeurs aberrantes.\n",
        "3. L'imputation médiane élimine complètement les valeurs aberrantes."
      ],
      "metadata": {
        "id": "QH3qU7gw4QEW"
      }
    }
  ]
}